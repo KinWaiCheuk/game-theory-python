{
 "cells": [
  {
   "cell_type": "code",
   "execution_count": 167,
   "metadata": {},
   "outputs": [],
   "source": [
    "import numpy as np"
   ]
  },
  {
   "cell_type": "code",
   "execution_count": null,
   "metadata": {},
   "outputs": [],
   "source": [
    "np.array()"
   ]
  },
  {
   "cell_type": "code",
   "execution_count": 171,
   "metadata": {},
   "outputs": [],
   "source": [
    "class Linear_Cost():\n",
    "    def __init__(self,a,b):\n",
    "        self.a = a\n",
    "        self.b = b\n",
    "    def c(self,f):\n",
    "        return self.a*f+self.b\n",
    "    \n",
    "class Constant_Cost():\n",
    "    def __init__(self,a):\n",
    "        self.a = a\n",
    "    def c(self,f):\n",
    "        return self.a"
   ]
  },
  {
   "cell_type": "code",
   "execution_count": 196,
   "metadata": {},
   "outputs": [],
   "source": [
    "def check_Nash(cost1, cost2, f1, f2):\n",
    "    check1 = False\n",
    "    check2 = False\n",
    "    if f2 > 0: # Deviate from second edge to first edge\n",
    "        agent_orignal_cost = cost2.c(f2)\n",
    "        f1_new = f1+1\n",
    "        agent_dev_cost = cost1.c(f1_new)\n",
    "        if agent_orignal_cost > agent_dev_cost:\n",
    "            print(\"e2->e1, cost chagne = {} -> {}\\n\".format(agent_orignal_cost,agent_dev_cost))\n",
    "        else:\n",
    "            print(\"e2->e1, cost chagne = {} -> {}\".format(agent_orignal_cost,agent_dev_cost))\n",
    "            print(\"Cannot deviate\")\n",
    "            check1 = True\n",
    "    else:\n",
    "        check1 = True\n",
    "\n",
    "    if f1 > 0: # Deviate from first edge to second edge\n",
    "        agent_orignal_cost = cost1.c(f1)\n",
    "        f2_new = f2+1 \n",
    "        agent_dev_cost = cost2.c(f2_new)\n",
    "        if agent_orignal_cost > agent_dev_cost:\n",
    "            print(\"e1->e2, cost chagne = {} -> {}\\n\".format(agent_orignal_cost,agent_dev_cost))\n",
    "        else:\n",
    "            print(\"e1->e2, cost chagne = {} -> {}\".format(agent_orignal_cost,agent_dev_cost))\n",
    "            print(\"Cannot deviate\\n\")\n",
    "            check2 = True\n",
    "    else:\n",
    "        check2 = True \n",
    "        \n",
    "    if check1 == True & check2 ==True:\n",
    "        return True  "
   ]
  },
  {
   "cell_type": "code",
   "execution_count": 234,
   "metadata": {},
   "outputs": [
    {
     "name": "stdout",
     "output_type": "stream",
     "text": [
      "e1->e2, cost chagne = 4 -> 1\n",
      "\n",
      "e2->e1, cost chagne = 1 -> 4\n",
      "Cannot deviate\n",
      "e1->e2, cost chagne = 4 -> 2\n",
      "\n",
      "e2->e1, cost chagne = 2 -> 4\n",
      "Cannot deviate\n",
      "e1->e2, cost chagne = 4 -> 3\n",
      "\n",
      "e2->e1, cost chagne = 3 -> 4\n",
      "Cannot deviate\n",
      "e1->e2, cost chagne = 4 -> 4\n",
      "Cannot deviate\n",
      "\n",
      "Nash found!\n",
      "e2->e1, cost chagne = 4 -> 4\n",
      "Cannot deviate\n",
      "Nash found!\n"
     ]
    }
   ],
   "source": [
    "SC_list = []\n",
    "Cost_NE_list = []\n",
    "r=4\n",
    "cost1 = Constant_Cost(r)\n",
    "cost2 = Linear_Cost(1,0)\n",
    "\n",
    "for x in range(0,r+1):\n",
    "    f1 = (r-x)\n",
    "    f2 = x\n",
    "    \n",
    "    SC = f1*cost1.c(f1)+f2*cost2.c(f2)\n",
    "    SC_list.append(SC)\n",
    "    IsNash = check_Nash(cost1, cost2, f1, f2)\n",
    "    if IsNash:\n",
    "        print(\"Nash found!\")\n",
    "        NE_setting = (f1, f2)\n",
    "        Cost_NE_list.append([SC, NE_setting])\n",
    "#     if SC < (r-x)*linear_cost(1,1,(r-x))+x*linear_cost(1,0,x) &  \n",
    "    "
   ]
  },
  {
   "cell_type": "code",
   "execution_count": 235,
   "metadata": {},
   "outputs": [
    {
     "data": {
      "text/plain": [
       "[[13, (1, 3)], [16, (0, 4)]]"
      ]
     },
     "execution_count": 235,
     "metadata": {},
     "output_type": "execute_result"
    }
   ],
   "source": [
    "Cost_NE_list"
   ]
  },
  {
   "cell_type": "code",
   "execution_count": 239,
   "metadata": {},
   "outputs": [],
   "source": [
    "PoA = 13/np.min(SC_list)"
   ]
  },
  {
   "cell_type": "code",
   "execution_count": 240,
   "metadata": {},
   "outputs": [
    {
     "data": {
      "text/plain": [
       "1.0833333333333333"
      ]
     },
     "execution_count": 240,
     "metadata": {},
     "output_type": "execute_result"
    }
   ],
   "source": [
    "PoA"
   ]
  },
  {
   "cell_type": "code",
   "execution_count": 241,
   "metadata": {},
   "outputs": [
    {
     "data": {
      "text/plain": [
       "[16, 13, 12, 13, 16]"
      ]
     },
     "execution_count": 241,
     "metadata": {},
     "output_type": "execute_result"
    }
   ],
   "source": [
    "SC_list"
   ]
  },
  {
   "cell_type": "code",
   "execution_count": null,
   "metadata": {},
   "outputs": [],
   "source": []
  }
 ],
 "metadata": {
  "kernelspec": {
   "display_name": "Python 3",
   "language": "python",
   "name": "python3"
  },
  "language_info": {
   "codemirror_mode": {
    "name": "ipython",
    "version": 3
   },
   "file_extension": ".py",
   "mimetype": "text/x-python",
   "name": "python",
   "nbconvert_exporter": "python",
   "pygments_lexer": "ipython3",
   "version": "3.5.6"
  }
 },
 "nbformat": 4,
 "nbformat_minor": 2
}
